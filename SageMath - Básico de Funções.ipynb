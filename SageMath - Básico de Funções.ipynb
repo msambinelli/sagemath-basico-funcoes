{
 "cells": [
  {
   "cell_type": "markdown",
   "metadata": {},
   "source": [
    "# SageMath ❤\n",
    "\n"
   ]
  },
  {
   "cell_type": "markdown",
   "metadata": {},
   "source": [
    "O código abaixo fará com que nossas saídas fiquem mais bonitas"
   ]
  },
  {
   "cell_type": "code",
   "execution_count": 227,
   "metadata": {},
   "outputs": [],
   "source": [
    "%display latex"
   ]
  },
  {
   "cell_type": "markdown",
   "metadata": {},
   "source": [
    "## SageMath (aka Python com esteróides)\n",
    "\n",
    "Basicamente, o SageMath é um interpretador da linguagem Python com várias bibliotecas incluídas por padrão no namespace global. Se você sabe Python, então você sabe a sintaxe de SageMath (estruturas dede controle de fluxo, repetição, chamada de função e etc). Então, a única coisa que você precisa fazer para ficar fluente em SageMath é se familiarizar com a biblioteca de funções disponível. \n",
    "\n",
    "Ao longo desse texto, vou assumir que você é fluente em Python."
   ]
  },
  {
   "cell_type": "markdown",
   "metadata": {},
   "source": [
    "## Básico"
   ]
  },
  {
   "cell_type": "markdown",
   "metadata": {},
   "source": [
    "### Constantes"
   ]
  },
  {
   "cell_type": "code",
   "execution_count": 230,
   "metadata": {},
   "outputs": [
    {
     "data": {
      "text/html": [
       "<html>\\(\\displaystyle NaN\\)</html>"
      ],
      "text/latex": [
       "$\\displaystyle NaN$"
      ],
      "text/plain": [
       "NaN"
      ]
     },
     "execution_count": 230,
     "metadata": {},
     "output_type": "execute_result"
    }
   ],
   "source": [
    "pi # π\n",
    "infinity # ∞\n",
    "oo # ∞\n",
    "golden_ratio # Φ\n",
    "e # e\n",
    "i # i\n",
    "I # i\n",
    "log2 # log(2)\n",
    "NaN # Not a Number"
   ]
  },
  {
   "cell_type": "markdown",
   "metadata": {},
   "source": [
    "### Funções elementares\n"
   ]
  },
  {
   "cell_type": "code",
   "execution_count": 231,
   "metadata": {},
   "outputs": [
    {
     "data": {
      "text/html": [
       "<html>\\(\\displaystyle 3\\)</html>"
      ],
      "text/latex": [
       "$\\displaystyle 3$"
      ],
      "text/plain": [
       "3"
      ]
     },
     "execution_count": 231,
     "metadata": {},
     "output_type": "execute_result"
    }
   ],
   "source": [
    "# sin(2) - seno\n",
    "# cos(2) - cosseno\n",
    "# tan(2) - tangente\n",
    "# sec(2) - secante\n",
    "log(8, 2) # log_2(8) = 3\n",
    "# ln(2) - logaritmo natural\n",
    "# exp(2) # e^2\n",
    "# sqrt(2) # √2"
   ]
  },
  {
   "cell_type": "markdown",
   "metadata": {},
   "source": [
    "### Declarando variáveis\n",
    "\n",
    "Para realizarmos manipulações simbólicas, precisamos declarar as variáveis algébricas envolvidas. \n"
   ]
  },
  {
   "cell_type": "code",
   "execution_count": 235,
   "metadata": {},
   "outputs": [],
   "source": [
    "y = var('y')\n",
    "z, k = var('z, k') # declarando mais de uma variável ao mesmo tempo"
   ]
  },
  {
   "cell_type": "markdown",
   "metadata": {},
   "source": [
    "### Operadores Elementares\n"
   ]
  },
  {
   "cell_type": "code",
   "execution_count": 236,
   "metadata": {},
   "outputs": [
    {
     "data": {
      "text/html": [
       "<html>\\(\\displaystyle x^{y}\\)</html>"
      ],
      "text/latex": [
       "$\\displaystyle x^{y}$"
      ],
      "text/plain": [
       "x^y"
      ]
     },
     "execution_count": 236,
     "metadata": {},
     "output_type": "execute_result"
    }
   ],
   "source": [
    "x, y = var(\"x, y\")\n",
    "x + y # + para adição\n",
    "x - y # - para subtração\n",
    "x * y # * para multiplicação\n",
    "x / y # / para divisão\n",
    "\n",
    "# 🚨 ^ para exponenêciação. \n",
    "# Note que a sintaxe aqui é diferente da utilizada no Python.\n",
    "# Entretanto, a exponênciação do python x ** y tbm funciona, mas\n",
    "# seu uso é desencorajado por questão de estilo.\n",
    "x^y   "
   ]
  },
  {
   "cell_type": "markdown",
   "metadata": {},
   "source": [
    "### Declarando uma  função"
   ]
  },
  {
   "cell_type": "markdown",
   "metadata": {},
   "source": [
    "Vamos explorar a função algébrica $$f(x) = x^2 \\sin 2x + x^2e^{-x}+x^2 - x + 3.$$"
   ]
  },
  {
   "cell_type": "code",
   "execution_count": 242,
   "metadata": {},
   "outputs": [],
   "source": [
    "f(x) = x^2 * sin(2*x) + x^2*exp(-x) + x^2 - x + 3"
   ]
  },
  {
   "cell_type": "markdown",
   "metadata": {},
   "source": [
    "⚠ **Alerta:** Como disse anteriormente, o SageMath é apenas um interpretador Python com uma biblioteca adicional de funções no *namespace* global. Isso significa que todo programa Python é um programa válido de SageMath (possuem a mesma sintaxe). Consequentemente, o código abaixo define uma função válida:\n",
    "\n",
    "```python\n",
    "def f(x):\n",
    "    return x^2 * sin(2*x) + x^2*exp(-x) + x^2 - x + 3\n",
    "```\n",
    "\n",
    "No entando a natureza dessa função é diferente da função algébrica que definimos anteriormente. \n",
    "A função algébrica $f$ definida como\n",
    "\n",
    "```python\n",
    "f(x) = x^2 \\sin 2x + x^2e^{-x}+x^2 - x + 3.\n",
    "```\n",
    "\n",
    "é um objeto do tipo `<𝚌𝚕𝚊𝚜𝚜 '𝚜𝚊𝚐𝚎.𝚜𝚢𝚖𝚋𝚘𝚕𝚒𝚌.𝚎𝚡𝚙𝚛𝚎𝚜𝚜𝚒𝚘𝚗.𝙴𝚡𝚙𝚛𝚎𝚜𝚜𝚒𝚘𝚗'>`, que o SageMath será capaz de manipular (calcular limite, simplificar, integrar e etc). Já a função $f$ definida com `def f(x)` é uma função da linguagem Python que possui tipo `<class 'function>`.\n",
    "O SageMath não é capaz de manipular funções do Python.\n",
    "\n",
    "### Visualizando"
   ]
  },
  {
   "cell_type": "markdown",
   "metadata": {},
   "source": [
    "Você pode visualizar f  na forma de um texto:"
   ]
  },
  {
   "cell_type": "code",
   "execution_count": 243,
   "metadata": {},
   "outputs": [
    {
     "data": {
      "text/html": [
       "<html>\\(\\displaystyle x \\ {\\mapsto}\\ x^{2} e^{\\left(-x\\right)} + x^{2} \\sin\\left(2 \\, x\\right) + x^{2} - x + 3\\)</html>"
      ],
      "text/latex": [
       "$\\displaystyle x \\ {\\mapsto}\\ x^{2} e^{\\left(-x\\right)} + x^{2} \\sin\\left(2 \\, x\\right) + x^{2} - x + 3$"
      ],
      "text/plain": [
       "x |--> x^2*e^(-x) + x^2*sin(2*x) + x^2 - x + 3"
      ]
     },
     "execution_count": 243,
     "metadata": {},
     "output_type": "execute_result"
    }
   ],
   "source": [
    "f"
   ]
  },
  {
   "cell_type": "markdown",
   "metadata": {},
   "source": [
    "ou"
   ]
  },
  {
   "cell_type": "code",
   "execution_count": 252,
   "metadata": {},
   "outputs": [
    {
     "data": {
      "text/html": [
       "<html>\\(\\displaystyle x \\ {\\mapsto}\\ x^{2} e^{\\left(-x\\right)} + x^{2} \\sin\\left(2 \\, x\\right) + x^{2} - x + 3\\)</html>"
      ],
      "text/latex": [
       "$\\displaystyle x \\ {\\mapsto}\\ x^{2} e^{\\left(-x\\right)} + x^{2} \\sin\\left(2 \\, x\\right) + x^{2} - x + 3$"
      ],
      "text/plain": [
       "x |--> x^2*e^(-x) + x^2*sin(2*x) + x^2 - x + 3"
      ]
     },
     "metadata": {},
     "output_type": "display_data"
    }
   ],
   "source": [
    "show(f)"
   ]
  },
  {
   "cell_type": "markdown",
   "metadata": {},
   "source": [
    "Você deveria ser capaz de visualizar a função $f$ como na figura abaixo.\n",
    "\n",
    "![formula](figs/formula.png)"
   ]
  },
  {
   "cell_type": "markdown",
   "metadata": {},
   "source": [
    "Outra forma é exibir a descrição da função em [$\\LaTeX$](https://www.overleaf.com/learn/latex/Learn_LaTeX_in_30_minutes)."
   ]
  },
  {
   "cell_type": "code",
   "execution_count": 251,
   "metadata": {},
   "outputs": [
    {
     "name": "stdout",
     "output_type": "stream",
     "text": [
      "x \\ {\\mapsto}\\ x^{2} e^{\\left(-x\\right)} + x^{2} \\sin\\left(2 \\, x\\right) + x^{2} - x + 3\n"
     ]
    }
   ],
   "source": [
    "print(latex(f))"
   ]
  },
  {
   "cell_type": "markdown",
   "metadata": {},
   "source": [
    "Tudo o que foi discutido acima para uma função $f$ também aplica-se a expressões. "
   ]
  },
  {
   "cell_type": "code",
   "execution_count": 253,
   "metadata": {},
   "outputs": [
    {
     "data": {
      "text/html": [
       "<html>\\(\\displaystyle \\frac{1}{z + 1}\\)</html>"
      ],
      "text/latex": [
       "$\\displaystyle \\frac{1}{z + 1}$"
      ],
      "text/plain": [
       "1/(z + 1)"
      ]
     },
     "execution_count": 253,
     "metadata": {},
     "output_type": "execute_result"
    }
   ],
   "source": [
    "expr = 1/(z + 1)\n",
    "expr"
   ]
  },
  {
   "cell_type": "markdown",
   "metadata": {},
   "source": [
    "### Plotando $f$"
   ]
  },
  {
   "cell_type": "code",
   "execution_count": 281,
   "metadata": {},
   "outputs": [
    {
     "data": {
      "image/png": "[encoded data removed]",
      "text/plain": [
       "Graphics object consisting of 1 graphics primitive"
      ]
     },
     "execution_count": 281,
     "metadata": {},
     "output_type": "execute_result"
    }
   ],
   "source": [
    "# o primeiro parâmetro define o início do intervalo a ser plotado e o segundo, o final do intervalo.\n",
    "# figsize controla o tamanho da imagem\n",
    "f.plot(0, 100, figsize=4) "
   ]
  },
  {
   "cell_type": "markdown",
   "metadata": {},
   "source": [
    "Esteja ciente de definir um intervalo adequado. Veja como o resultado muda quando mudamos o intervalo."
   ]
  },
  {
   "cell_type": "code",
   "execution_count": 266,
   "metadata": {},
   "outputs": [
    {
     "data": {
      "image/png": "[encoded data removed]",
      "text/plain": [
       "Graphics object consisting of 1 graphics primitive"
      ]
     },
     "execution_count": 266,
     "metadata": {},
     "output_type": "execute_result"
    }
   ],
   "source": [
    "f.plot(-20, 100, figsize=4)"
   ]
  },
  {
   "cell_type": "markdown",
   "metadata": {},
   "source": [
    "<img src=\"figs/wait.gif\" style=\"width:300px; height:200px;\">\n",
    "\n",
    "Se você é um leitor atento, pode ter observado que os dois gráficos anteriores da mesma função não estão coerentes. Essa inconsistência ocorre devido a um antigo BUG presente no SageMath, que impede a exibição correta do multiplicador na notação científica. Para contornar esse problema, basta pedir para o SageMath desenhar um *frame* ao redor do plot."
   ]
  },
  {
   "cell_type": "code",
   "execution_count": 267,
   "metadata": {},
   "outputs": [
    {
     "data": {
      "image/png": "[encoded data removed]",
      "text/plain": [
       "Graphics object consisting of 1 graphics primitive"
      ]
     },
     "execution_count": 267,
     "metadata": {},
     "output_type": "execute_result"
    }
   ],
   "source": [
    "f.plot(-20, 100, frame=True, figsize=4)"
   ]
  },
  {
   "cell_type": "markdown",
   "metadata": {},
   "source": [
    "### Plotando mais de uma função no mesmo gráfico\n"
   ]
  },
  {
   "cell_type": "code",
   "execution_count": 284,
   "metadata": {},
   "outputs": [
    {
     "data": {
      "image/png": "[encoded data removed]",
      "text/plain": [
       "Graphics object consisting of 2 graphics primitives"
      ]
     },
     "metadata": {},
     "output_type": "display_data"
    }
   ],
   "source": [
    "f(x) = 3 * x^2 - 10*x - 10\n",
    "g(x) = 15*x\n",
    "\n",
    "P = f.plot(-5, 10, color=\"red\") + g.plot(-5, 10)\n",
    "P.show(figsize=4)"
   ]
  },
  {
   "cell_type": "markdown",
   "metadata": {},
   "source": [
    "## Plotando mais de um gráfico\n",
    "\n",
    "Veja um exemplo na Seção [Sistema de (In)equações](#Sistema-de-(In)equações)"
   ]
  },
  {
   "cell_type": "markdown",
   "metadata": {},
   "source": [
    "### Manipulando expressões"
   ]
  },
  {
   "cell_type": "markdown",
   "metadata": {},
   "source": [
    "Expandir expressões "
   ]
  },
  {
   "cell_type": "code",
   "execution_count": 285,
   "metadata": {},
   "outputs": [
    {
     "data": {
      "text/html": [
       "<html>\\(\\displaystyle x^{5} - 5 \\, x^{4} y + 10 \\, x^{3} y^{2} - 10 \\, x^{2} y^{3} + 5 \\, x y^{4} - y^{5}\\)</html>"
      ],
      "text/latex": [
       "$\\displaystyle x^{5} - 5 \\, x^{4} y + 10 \\, x^{3} y^{2} - 10 \\, x^{2} y^{3} + 5 \\, x y^{4} - y^{5}$"
      ],
      "text/plain": [
       "x^5 - 5*x^4*y + 10*x^3*y^2 - 10*x^2*y^3 + 5*x*y^4 - y^5"
      ]
     },
     "execution_count": 285,
     "metadata": {},
     "output_type": "execute_result"
    }
   ],
   "source": [
    "expr = (x-y)^5\n",
    "expand(expr)"
   ]
  },
  {
   "cell_type": "markdown",
   "metadata": {},
   "source": [
    "Simplificação de expressões"
   ]
  },
  {
   "cell_type": "code",
   "execution_count": 286,
   "metadata": {},
   "outputs": [
    {
     "data": {
      "text/html": [
       "<html>\\(\\displaystyle \\sin\\left(\\frac{x}{x^{2} + x}\\right)\\)</html>"
      ],
      "text/latex": [
       "$\\displaystyle \\sin\\left(\\frac{x}{x^{2} + x}\\right)$"
      ],
      "text/plain": [
       "sin(x/(x^2 + x))"
      ]
     },
     "execution_count": 286,
     "metadata": {},
     "output_type": "execute_result"
    }
   ],
   "source": [
    "expr = sin(x/(x^2 + x))\n",
    "expr"
   ]
  },
  {
   "cell_type": "code",
   "execution_count": 287,
   "metadata": {},
   "outputs": [
    {
     "data": {
      "text/html": [
       "<html>\\(\\displaystyle \\sin\\left(\\frac{1}{x + 1}\\right)\\)</html>"
      ],
      "text/latex": [
       "$\\displaystyle \\sin\\left(\\frac{1}{x + 1}\\right)$"
      ],
      "text/plain": [
       "sin(1/(x + 1))"
      ]
     },
     "execution_count": 287,
     "metadata": {},
     "output_type": "execute_result"
    }
   ],
   "source": [
    "expr.simplify_full()"
   ]
  },
  {
   "cell_type": "markdown",
   "metadata": {},
   "source": [
    "# Limite"
   ]
  },
  {
   "cell_type": "code",
   "execution_count": 292,
   "metadata": {},
   "outputs": [
    {
     "data": {
      "text/html": [
       "<html>\\(\\displaystyle x \\ {\\mapsto}\\ +\\infty\\)</html>"
      ],
      "text/latex": [
       "$\\displaystyle x \\ {\\mapsto}\\ +\\infty$"
      ],
      "text/plain": [
       "x |--> +Infinity"
      ]
     },
     "execution_count": 292,
     "metadata": {},
     "output_type": "execute_result"
    }
   ],
   "source": [
    "# as 4 formas abaixo são todas equivalentes\n",
    "f.limit(x = +infinity)\n",
    "lim(f, x = +infinity)\n",
    "lim(f, x = +oo)\n",
    "limit(f, x = +infinity)"
   ]
  },
  {
   "cell_type": "markdown",
   "metadata": {},
   "source": [
    "Outro exemplo"
   ]
  },
  {
   "cell_type": "code",
   "execution_count": 293,
   "metadata": {},
   "outputs": [
    {
     "data": {
      "text/html": [
       "<html>\\(\\displaystyle e\\)</html>"
      ],
      "text/latex": [
       "$\\displaystyle e$"
      ],
      "text/plain": [
       "e"
      ]
     },
     "execution_count": 293,
     "metadata": {},
     "output_type": "execute_result"
    }
   ],
   "source": [
    "lim((x+1)^(1/x), x=0)"
   ]
  },
  {
   "cell_type": "markdown",
   "metadata": {},
   "source": [
    "Podemos pegar pegar o valor numérico de uma expressão como `.n()`"
   ]
  },
  {
   "cell_type": "code",
   "execution_count": 294,
   "metadata": {},
   "outputs": [
    {
     "data": {
      "text/html": [
       "<html>\\(\\displaystyle 2.71828182845905\\)</html>"
      ],
      "text/latex": [
       "$\\displaystyle 2.71828182845905$"
      ],
      "text/plain": [
       "2.71828182845905"
      ]
     },
     "execution_count": 294,
     "metadata": {},
     "output_type": "execute_result"
    }
   ],
   "source": [
    "lim((x+1)^(1/x), x=0).n()"
   ]
  },
  {
   "cell_type": "markdown",
   "metadata": {},
   "source": [
    "Podemos calcular limite da direita (+) e da esquerda (-)"
   ]
  },
  {
   "cell_type": "code",
   "execution_count": 295,
   "metadata": {},
   "outputs": [
    {
     "data": {
      "text/html": [
       "<html>\\(\\displaystyle 0\\)</html>"
      ],
      "text/latex": [
       "$\\displaystyle 0$"
      ],
      "text/plain": [
       "0"
      ]
     },
     "execution_count": 295,
     "metadata": {},
     "output_type": "execute_result"
    }
   ],
   "source": [
    "lim(x*log(x), x=0, dir='+')"
   ]
  },
  {
   "cell_type": "markdown",
   "metadata": {},
   "source": [
    "# Derivada"
   ]
  },
  {
   "cell_type": "code",
   "execution_count": 296,
   "metadata": {},
   "outputs": [
    {
     "data": {
      "text/html": [
       "<html>\\(\\displaystyle x \\ {\\mapsto}\\ 6 \\, x - 10\\)</html>"
      ],
      "text/latex": [
       "$\\displaystyle x \\ {\\mapsto}\\ 6 \\, x - 10$"
      ],
      "text/plain": [
       "x |--> 6*x - 10"
      ]
     },
     "execution_count": 296,
     "metadata": {},
     "output_type": "execute_result"
    }
   ],
   "source": [
    "# Todas as formas abaixo são equivalentes\n",
    "f.diff()\n",
    "diff(f)\n",
    "derivative(f)\n",
    "f.derivative()"
   ]
  },
  {
   "cell_type": "markdown",
   "metadata": {},
   "source": [
    "# Integral"
   ]
  },
  {
   "cell_type": "markdown",
   "metadata": {},
   "source": [
    "### Integral indefinida"
   ]
  },
  {
   "cell_type": "code",
   "execution_count": 297,
   "metadata": {},
   "outputs": [
    {
     "data": {
      "text/html": [
       "<html>\\(\\displaystyle x \\ {\\mapsto}\\ x^{3} - 5 \\, x^{2} - 10 \\, x\\)</html>"
      ],
      "text/latex": [
       "$\\displaystyle x \\ {\\mapsto}\\ x^{3} - 5 \\, x^{2} - 10 \\, x$"
      ],
      "text/plain": [
       "x |--> x^3 - 5*x^2 - 10*x"
      ]
     },
     "execution_count": 297,
     "metadata": {},
     "output_type": "execute_result"
    }
   ],
   "source": [
    "integ = f.integral(x)\n",
    "integ"
   ]
  },
  {
   "cell_type": "markdown",
   "metadata": {},
   "source": [
    "### Integral definida"
   ]
  },
  {
   "cell_type": "code",
   "execution_count": 300,
   "metadata": {},
   "outputs": [
    {
     "data": {
      "text/html": [
       "<html>\\(\\displaystyle -14\\)</html>"
      ],
      "text/latex": [
       "$\\displaystyle -14$"
      ],
      "text/plain": [
       "-14"
      ]
     },
     "execution_count": 300,
     "metadata": {},
     "output_type": "execute_result"
    }
   ],
   "source": [
    "# As declarações a seguir são equivalentes\n",
    "f.integral(x, 0, 1)\n",
    "integral(f, x, 0, 1)"
   ]
  },
  {
   "cell_type": "markdown",
   "metadata": {},
   "source": [
    "Acessando o valor numérico"
   ]
  },
  {
   "cell_type": "code",
   "execution_count": 301,
   "metadata": {},
   "outputs": [
    {
     "data": {
      "text/html": [
       "<html>\\(\\displaystyle -14.0000000000000\\)</html>"
      ],
      "text/latex": [
       "$\\displaystyle -14.0000000000000$"
      ],
      "text/plain": [
       "-14.0000000000000"
      ]
     },
     "execution_count": 301,
     "metadata": {},
     "output_type": "execute_result"
    }
   ],
   "source": [
    "integral(f, x, 0, 1).n()"
   ]
  },
  {
   "cell_type": "markdown",
   "metadata": {},
   "source": [
    "# Somatório"
   ]
  },
  {
   "cell_type": "code",
   "execution_count": 302,
   "metadata": {},
   "outputs": [
    {
     "data": {
      "text/html": [
       "<html>\\(\\displaystyle {\\sum_{k=1}^{n} k}\\)</html>"
      ],
      "text/latex": [
       "$\\displaystyle {\\sum_{k=1}^{n} k}$"
      ],
      "text/plain": [
       "sum(k, k, 1, n)"
      ]
     },
     "execution_count": 302,
     "metadata": {},
     "output_type": "execute_result"
    }
   ],
   "source": [
    "n,k = var('n,k')\n",
    "\n",
    "# vamos usar o parâmetro hold=True para que o somatório não seja avaliado\n",
    "# imediatamente e que assim possamos conferí-lo\n",
    "sum1 = sum(k,k,1,n, hold=True)\n",
    "sum1"
   ]
  },
  {
   "cell_type": "code",
   "execution_count": 303,
   "metadata": {},
   "outputs": [
    {
     "data": {
      "text/html": [
       "<html>\\(\\displaystyle \\frac{1}{2} \\, n^{2} + \\frac{1}{2} \\, n\\)</html>"
      ],
      "text/latex": [
       "$\\displaystyle \\frac{1}{2} \\, n^{2} + \\frac{1}{2} \\, n$"
      ],
      "text/plain": [
       "1/2*n^2 + 1/2*n"
      ]
     },
     "execution_count": 303,
     "metadata": {},
     "output_type": "execute_result"
    }
   ],
   "source": [
    "sum1.unhold()"
   ]
  },
  {
   "cell_type": "markdown",
   "metadata": {},
   "source": [
    "Agora lado a lado"
   ]
  },
  {
   "cell_type": "code",
   "execution_count": 304,
   "metadata": {},
   "outputs": [
    {
     "data": {
      "text/html": [
       "<html>\\(\\displaystyle {\\sum_{k=1}^{n} k} = \\frac{1}{2} \\, n^{2} + \\frac{1}{2} \\, n\\)</html>"
      ],
      "text/latex": [
       "$\\displaystyle {\\sum_{k=1}^{n} k} = \\frac{1}{2} \\, n^{2} + \\frac{1}{2} \\, n$"
      ],
      "text/plain": [
       "sum(k, k, 1, n) == 1/2*n^2 + 1/2*n"
      ]
     },
     "metadata": {},
     "output_type": "display_data"
    }
   ],
   "source": [
    "show(sum1 == sum1.unhold())\n"
   ]
  },
  {
   "cell_type": "markdown",
   "metadata": {},
   "source": [
    "Outro exemplo"
   ]
  },
  {
   "cell_type": "code",
   "execution_count": 305,
   "metadata": {},
   "outputs": [
    {
     "data": {
      "text/html": [
       "<html>\\(\\displaystyle {\\sum_{k=0}^{n} \\frac{4^{k} k^{4}}{\\binom{2 \\, k}{k}}} = \\frac{2 \\, {\\left({\\left(63 \\, n^{5} + 175 \\, n^{4} + 130 \\, n^{3} - 4 \\, n^{2} - 19 \\, n + 3\\right)} 4^{n} - 3 \\, \\binom{2 \\, n}{n}\\right)}}{693 \\, \\binom{2 \\, n}{n}}\\)</html>"
      ],
      "text/latex": [
       "$\\displaystyle {\\sum_{k=0}^{n} \\frac{4^{k} k^{4}}{\\binom{2 \\, k}{k}}} = \\frac{2 \\, {\\left({\\left(63 \\, n^{5} + 175 \\, n^{4} + 130 \\, n^{3} - 4 \\, n^{2} - 19 \\, n + 3\\right)} 4^{n} - 3 \\, \\binom{2 \\, n}{n}\\right)}}{693 \\, \\binom{2 \\, n}{n}}$"
      ],
      "text/plain": [
       "sum(4^k*k^4/binomial(2*k, k), k, 0, n) == 2/693*((63*n^5 + 175*n^4 + 130*n^3 - 4*n^2 - 19*n + 3)*4^n - 3*binomial(2*n, n))/binomial(2*n, n)"
      ]
     },
     "metadata": {},
     "output_type": "display_data"
    }
   ],
   "source": [
    "n,k = var('n,k')\n",
    "soln_d = sum(k^4 * 4^k / binomial(2*k,k), k, 0, n, hold=True)\n",
    "show(soln_d == soln_d.unhold())\n"
   ]
  },
  {
   "cell_type": "markdown",
   "metadata": {},
   "source": [
    "Um último exemplo"
   ]
  },
  {
   "cell_type": "code",
   "execution_count": 306,
   "metadata": {},
   "outputs": [
    {
     "data": {
      "text/html": [
       "<html>\\(\\displaystyle {\\sum_{n=0}^{+\\infty} \\frac{1}{n!}}\\)</html>"
      ],
      "text/latex": [
       "$\\displaystyle {\\sum_{n=0}^{+\\infty} \\frac{1}{n!}}$"
      ],
      "text/plain": [
       "sum(1/factorial(n), n, 0, +Infinity)"
      ]
     },
     "metadata": {},
     "output_type": "display_data"
    },
    {
     "name": "stdout",
     "output_type": "stream",
     "text": [
      "Esta é a solução: \n"
     ]
    },
    {
     "data": {
      "text/html": [
       "<html>\\(\\displaystyle e\\)</html>"
      ],
      "text/latex": [
       "$\\displaystyle e$"
      ],
      "text/plain": [
       "e"
      ]
     },
     "metadata": {},
     "output_type": "display_data"
    },
    {
     "name": "stdout",
     "output_type": "stream",
     "text": [
      "Está é a aproximação numérica: \n"
     ]
    },
    {
     "data": {
      "text/html": [
       "<html>\\(\\displaystyle 2.71828182845905\\)</html>"
      ],
      "text/latex": [
       "$\\displaystyle 2.71828182845905$"
      ],
      "text/plain": [
       "2.71828182845905"
      ]
     },
     "metadata": {},
     "output_type": "display_data"
    }
   ],
   "source": [
    "n = var('n')\n",
    "f(n) = 1/factorial(n)\n",
    "\n",
    "soln = sum(f(n), n, 0, oo, hold=True) \n",
    "show(soln)\n",
    "\n",
    "print(\"Esta é a solução: \")\n",
    "show(soln.unhold())\n",
    "\n",
    "print(\"Está é a aproximação numérica: \")\n",
    "show(soln.unhold().n())"
   ]
  },
  {
   "cell_type": "markdown",
   "metadata": {},
   "source": [
    "Agora é o último, eu juro!"
   ]
  },
  {
   "cell_type": "code",
   "execution_count": 307,
   "metadata": {},
   "outputs": [
    {
     "data": {
      "text/html": [
       "<html>\\(\\displaystyle {\\sum_{n=0}^{+\\infty} \\frac{16 \\, n^{2} + 20 \\, n + 7}{\\left(4 \\, n + 2\\right)!}}\\)</html>"
      ],
      "text/latex": [
       "$\\displaystyle {\\sum_{n=0}^{+\\infty} \\frac{16 \\, n^{2} + 20 \\, n + 7}{\\left(4 \\, n + 2\\right)!}}$"
      ],
      "text/plain": [
       "sum((16*n^2 + 20*n + 7)/factorial(4*n + 2), n, 0, +Infinity)"
      ]
     },
     "metadata": {},
     "output_type": "display_data"
    },
    {
     "name": "stdout",
     "output_type": "stream",
     "text": [
      "Solução exata: \n"
     ]
    },
    {
     "data": {
      "text/html": [
       "<html>\\(\\displaystyle \\frac{1}{113400} \\, \\,_0F_3\\left(\\begin{matrix}  \\\\ \\frac{13}{4},\\frac{11}{4},\\frac{7}{2} \\end{matrix} ; \\frac{1}{256} \\right) + \\frac{1}{20} \\, \\,_0F_3\\left(\\begin{matrix}  \\\\ \\frac{9}{4},\\frac{7}{4},\\frac{5}{2} \\end{matrix} ; \\frac{1}{256} \\right) + \\frac{7}{2} \\, \\,_0F_3\\left(\\begin{matrix}  \\\\ \\frac{5}{4},\\frac{3}{4},\\frac{3}{2} \\end{matrix} ; \\frac{1}{256} \\right)\\)</html>"
      ],
      "text/latex": [
       "$\\displaystyle \\frac{1}{113400} \\, \\,_0F_3\\left(\\begin{matrix}  \\\\ \\frac{13}{4},\\frac{11}{4},\\frac{7}{2} \\end{matrix} ; \\frac{1}{256} \\right) + \\frac{1}{20} \\, \\,_0F_3\\left(\\begin{matrix}  \\\\ \\frac{9}{4},\\frac{7}{4},\\frac{5}{2} \\end{matrix} ; \\frac{1}{256} \\right) + \\frac{7}{2} \\, \\,_0F_3\\left(\\begin{matrix}  \\\\ \\frac{5}{4},\\frac{3}{4},\\frac{3}{2} \\end{matrix} ; \\frac{1}{256} \\right)$"
      ],
      "text/plain": [
       "1/113400*hypergeometric((), (13/4, 11/4, 7/2), 1/256) + 1/20*hypergeometric((), (9/4, 7/4, 5/2), 1/256) + 7/2*hypergeometric((), (5/4, 3/4, 3/2), 1/256)"
      ]
     },
     "metadata": {},
     "output_type": "display_data"
    },
    {
     "name": "stdout",
     "output_type": "stream",
     "text": [
      "Solução aproximada: \n"
     ]
    },
    {
     "data": {
      "text/html": [
       "<html>\\(\\displaystyle 3.55975281326694\\)</html>"
      ],
      "text/latex": [
       "$\\displaystyle 3.55975281326694$"
      ],
      "text/plain": [
       "3.55975281326694"
      ]
     },
     "metadata": {},
     "output_type": "display_data"
    }
   ],
   "source": [
    "n = var('n')\n",
    "f = (16*n^2 + 20*n + 7) / factorial(4*n + 2)\n",
    "soln = sum(f,n,0,oo, hold=True) \n",
    "show(soln)\n",
    "\n",
    "print(\"Solução exata: \")\n",
    "show(soln.unhold())\n",
    "\n",
    "print(\"Solução aproximada: \")\n",
    "show(soln.unhold().n())"
   ]
  },
  {
   "cell_type": "markdown",
   "metadata": {},
   "source": [
    "# (In)Equações\n"
   ]
  },
  {
   "cell_type": "code",
   "execution_count": 308,
   "metadata": {},
   "outputs": [
    {
     "data": {
      "image/png": "[encoded data removed]",
      "text/plain": [
       "Graphics object consisting of 2 graphics primitives"
      ]
     },
     "metadata": {},
     "output_type": "display_data"
    }
   ],
   "source": [
    "f(x) = 3 * x^2 - 10*x - 10\n",
    "g(x) = 15*x\n",
    "\n",
    "P = f.plot(-5, 10, color=\"red\") + g.plot(-5, 10)\n",
    "P.show(figsize=4)"
   ]
  },
  {
   "cell_type": "code",
   "execution_count": 309,
   "metadata": {},
   "outputs": [
    {
     "data": {
      "text/html": [
       "<html>\\(\\displaystyle \\left[x = -\\frac{1}{6} \\, \\sqrt{745} + \\frac{25}{6}, x = \\frac{1}{6} \\, \\sqrt{745} + \\frac{25}{6}\\right]\\)</html>"
      ],
      "text/latex": [
       "$\\displaystyle \\left[x = -\\frac{1}{6} \\, \\sqrt{745} + \\frac{25}{6}, x = \\frac{1}{6} \\, \\sqrt{745} + \\frac{25}{6}\\right]$"
      ],
      "text/plain": [
       "[x == -1/6*sqrt(745) + 25/6, x == 1/6*sqrt(745) + 25/6]"
      ]
     },
     "execution_count": 309,
     "metadata": {},
     "output_type": "execute_result"
    }
   ],
   "source": [
    "solve(f == g, x)"
   ]
  },
  {
   "cell_type": "code",
   "execution_count": 310,
   "metadata": {},
   "outputs": [
    {
     "data": {
      "text/html": [
       "<html>\\(\\displaystyle \\left[\\left[x \\leq -\\frac{1}{6} \\, \\sqrt{745} + \\frac{25}{6}\\right], \\left[x \\geq \\frac{1}{6} \\, \\sqrt{745} + \\frac{25}{6}\\right]\\right]\\)</html>"
      ],
      "text/latex": [
       "$\\displaystyle \\left[\\left[x \\leq -\\frac{1}{6} \\, \\sqrt{745} + \\frac{25}{6}\\right], \\left[x \\geq \\frac{1}{6} \\, \\sqrt{745} + \\frac{25}{6}\\right]\\right]$"
      ],
      "text/plain": [
       "[[x <= -1/6*sqrt(745) + 25/6], [x >= 1/6*sqrt(745) + 25/6]]"
      ]
     },
     "execution_count": 310,
     "metadata": {},
     "output_type": "execute_result"
    }
   ],
   "source": [
    "solve(f >= g, x)"
   ]
  },
  {
   "cell_type": "markdown",
   "metadata": {},
   "source": [
    "podemos colocar hipóteses sobre nossa variável"
   ]
  },
  {
   "cell_type": "code",
   "execution_count": 311,
   "metadata": {},
   "outputs": [],
   "source": [
    "assume(x >= 0)"
   ]
  },
  {
   "cell_type": "markdown",
   "metadata": {},
   "source": [
    "Podemos ver nossas hipóteses com o comando"
   ]
  },
  {
   "cell_type": "code",
   "execution_count": 312,
   "metadata": {},
   "outputs": [
    {
     "data": {
      "text/html": [
       "<html>\\(\\displaystyle \\left[x \\geq 0\\right]\\)</html>"
      ],
      "text/latex": [
       "$\\displaystyle \\left[x \\geq 0\\right]$"
      ],
      "text/plain": [
       "[x >= 0]"
      ]
     },
     "execution_count": 312,
     "metadata": {},
     "output_type": "execute_result"
    }
   ],
   "source": [
    "assumptions()"
   ]
  },
  {
   "cell_type": "markdown",
   "metadata": {},
   "source": [
    "Veja como o resultado da nossa equação mudou! (Nos meus testes, a função `assume()` não funcionou para inequações).\n"
   ]
  },
  {
   "cell_type": "code",
   "execution_count": 313,
   "metadata": {},
   "outputs": [
    {
     "data": {
      "text/html": [
       "<html>\\(\\displaystyle \\left[x = \\frac{1}{6} \\, \\sqrt{745} + \\frac{25}{6}\\right]\\)</html>"
      ],
      "text/latex": [
       "$\\displaystyle \\left[x = \\frac{1}{6} \\, \\sqrt{745} + \\frac{25}{6}\\right]$"
      ],
      "text/plain": [
       "[x == 1/6*sqrt(745) + 25/6]"
      ]
     },
     "execution_count": 313,
     "metadata": {},
     "output_type": "execute_result"
    }
   ],
   "source": [
    "solve(f == g, x)"
   ]
  },
  {
   "cell_type": "markdown",
   "metadata": {},
   "source": [
    "Para limpar as hipóteses, faça"
   ]
  },
  {
   "cell_type": "code",
   "execution_count": 314,
   "metadata": {},
   "outputs": [],
   "source": [
    "forget()"
   ]
  },
  {
   "cell_type": "markdown",
   "metadata": {},
   "source": [
    "Veja como as hipóteses foram eliminadas"
   ]
  },
  {
   "cell_type": "code",
   "execution_count": 315,
   "metadata": {},
   "outputs": [
    {
     "data": {
      "text/html": [
       "<html>\\(\\displaystyle \\left[\\right]\\)</html>"
      ],
      "text/latex": [
       "$\\displaystyle \\left[\\right]$"
      ],
      "text/plain": [
       "[]"
      ]
     },
     "execution_count": 315,
     "metadata": {},
     "output_type": "execute_result"
    }
   ],
   "source": [
    "assumptions()"
   ]
  },
  {
   "cell_type": "markdown",
   "metadata": {},
   "source": [
    "Outro exemplo"
   ]
  },
  {
   "cell_type": "code",
   "execution_count": 317,
   "metadata": {},
   "outputs": [
    {
     "data": {
      "text/html": [
       "<html>\\(\\displaystyle \\left[\\right]\\)</html>"
      ],
      "text/latex": [
       "$\\displaystyle \\left[\\right]$"
      ],
      "text/plain": [
       "[]"
      ]
     },
     "execution_count": 317,
     "metadata": {},
     "output_type": "execute_result"
    }
   ],
   "source": [
    "k, z = var(\"k, z\")\n",
    "assume(k, 'integer')\n",
    "assume(z, 'integer')\n",
    "solve((k-z)^2==2, k)"
   ]
  },
  {
   "cell_type": "markdown",
   "metadata": {},
   "source": [
    "# Encontrando raízes"
   ]
  },
  {
   "cell_type": "code",
   "execution_count": 318,
   "metadata": {},
   "outputs": [
    {
     "data": {
      "image/png": "[encoded data removed]",
      "text/plain": [
       "Graphics object consisting of 1 graphics primitive"
      ]
     },
     "execution_count": 318,
     "metadata": {},
     "output_type": "execute_result"
    }
   ],
   "source": [
    "f(x) = x^2 + x - 6\n",
    "f.plot(-4, 3, figsize=4)"
   ]
  },
  {
   "cell_type": "code",
   "execution_count": 319,
   "metadata": {},
   "outputs": [
    {
     "data": {
      "text/html": [
       "<html>\\(\\displaystyle \\left[x = \\left(-3\\right), x = 2\\right]\\)</html>"
      ],
      "text/latex": [
       "$\\displaystyle \\left[x = \\left(-3\\right), x = 2\\right]$"
      ],
      "text/plain": [
       "[x == -3, x == 2]"
      ]
     },
     "metadata": {},
     "output_type": "display_data"
    }
   ],
   "source": [
    "sol = solve(f(x) == 0, x)\n",
    "show(sol)"
   ]
  },
  {
   "cell_type": "markdown",
   "metadata": {},
   "source": [
    "Encontrando uma raiz no intervalo $[-4, -2]$"
   ]
  },
  {
   "cell_type": "code",
   "execution_count": 320,
   "metadata": {},
   "outputs": [
    {
     "data": {
      "text/html": [
       "<html>\\(\\displaystyle -3.0\\)</html>"
      ],
      "text/latex": [
       "$\\displaystyle -3.0$"
      ],
      "text/plain": [
       "-3.0"
      ]
     },
     "execution_count": 320,
     "metadata": {},
     "output_type": "execute_result"
    }
   ],
   "source": [
    "find_root(f, -4, -2)"
   ]
  },
  {
   "cell_type": "markdown",
   "metadata": {},
   "source": [
    "# Sistema de (In)equações"
   ]
  },
  {
   "cell_type": "code",
   "execution_count": 321,
   "metadata": {},
   "outputs": [
    {
     "data": {
      "image/png": "[encoded data removed]",
      "text/plain": [
       "Graphics Array of size 2 x 2"
      ]
     },
     "metadata": {},
     "output_type": "display_data"
    },
    {
     "data": {
      "image/png": "[encoded data removed]",
      "text/plain": [
       "Graphics object consisting of 12 graphics primitives"
      ]
     },
     "metadata": {},
     "output_type": "display_data"
    }
   ],
   "source": [
    "ineq1l = text(r\"$x + y \\leq 3$\", (0.8, 2.5), color='#467347', fontsize=12).plot()\n",
    "ineq1r = region_plot(x + y <= 3, (x, -3, 3), (y, -1, 3), incol='green', bordercol='#467347', alpha=0.3).plot()\n",
    "\n",
    "ineq2l = text(r\"$y \\leq 2$\", (2, 2.3), color='#f94346', fontsize=12).plot()\n",
    "ineq2r = region_plot(y <= 2, (x, -3, 3), (y, -1, 3), incol='red', bordercol='#f94346', alpha=0.3).plot()\n",
    "\n",
    "ineq3l = text(r\"$\\frac{1}{2}x + 3y \\geq 1$\", (-1.5, 1), color='#1e30a1', fontsize=12).plot()\n",
    "ineq3r = region_plot(0.5*x + 3*y >= 1, (x, -3, 3), (y, -1, 3), incol='blue', bordercol='#1e30a1',  alpha=0.3).plot()\n",
    "\n",
    "\n",
    "ineq4l = text(r\"$x \\geq 0$\", (.5, 1.5), color='black', fontsize=12).plot()\n",
    "ineq4r = region_plot(x >= 0, (x, -3, 3), (y, -1, 3), incol='#fff79d', bordercol='#c99e00',  alpha=0.3).plot()\n",
    "\n",
    "graphics_array(((ineq1r + ineq1l, ineq2r + ineq2l), \n",
    "                (ineq3r + ineq3l, ineq4r + ineq4l))).show()\n",
    "\n",
    "plot(ineq1r + ineq1l + ineq2r + ineq2l + ineq3r + ineq3l + ineq4r + ineq4l).show(figsize=4)\n"
   ]
  },
  {
   "cell_type": "code",
   "execution_count": 322,
   "metadata": {},
   "outputs": [
    {
     "data": {
      "text/html": [
       "<html>\\(\\displaystyle \\left[\\left[\\max\\left(0, -6 \\, y + 2\\right) &lt; x, x &lt; -y + 3, \\left(-\\frac{1}{5}\\right) &lt; y, y &lt; 2\\right], \\left[x = 0, \\left(\\frac{1}{3}\\right) &lt; y, y &lt; 2\\right], \\left[x = 0, y = \\left(\\frac{1}{3}\\right)\\right], \\left[x = 0, y = 2\\right], \\left[x = 1, y = 2\\right], \\left[x = \\left(\\frac{16}{5}\\right), y = \\left(-\\frac{1}{5}\\right)\\right], \\left[x = -6 \\, y + 2, \\left(-\\frac{1}{5}\\right) &lt; y, y &lt; \\left(\\frac{1}{3}\\right)\\right], \\left[x = -y + 3, \\left(-\\frac{1}{5}\\right) &lt; y, y &lt; 2\\right], \\left[y = 2, 0 &lt; x, x &lt; 1\\right]\\right]\\)</html>"
      ],
      "text/latex": [
       "$\\displaystyle \\left[\\left[\\max\\left(0, -6 \\, y + 2\\right) < x, x < -y + 3, \\left(-\\frac{1}{5}\\right) < y, y < 2\\right], \\left[x = 0, \\left(\\frac{1}{3}\\right) < y, y < 2\\right], \\left[x = 0, y = \\left(\\frac{1}{3}\\right)\\right], \\left[x = 0, y = 2\\right], \\left[x = 1, y = 2\\right], \\left[x = \\left(\\frac{16}{5}\\right), y = \\left(-\\frac{1}{5}\\right)\\right], \\left[x = -6 \\, y + 2, \\left(-\\frac{1}{5}\\right) < y, y < \\left(\\frac{1}{3}\\right)\\right], \\left[x = -y + 3, \\left(-\\frac{1}{5}\\right) < y, y < 2\\right], \\left[y = 2, 0 < x, x < 1\\right]\\right]$"
      ],
      "text/plain": [
       "[[max(0, -6*y + 2) < x, x < -y + 3, (-1/5) < y, y < 2], [x == 0, (1/3) < y, y < 2], [x == 0, y == (1/3)], [x == 0, y == 2], [x == 1, y == 2], [x == (16/5), y == (-1/5)], [x == -6*y + 2, (-1/5) < y, y < (1/3)], [x == -y + 3, (-1/5) < y, y < 2], [y == 2, 0 < x, x < 1]]"
      ]
     },
     "metadata": {},
     "output_type": "display_data"
    }
   ],
   "source": [
    "show(solve([x + y <= 3, y <= 2, 1/2*x + 3*y >= 1, x >= 0], x, y))"
   ]
  },
  {
   "cell_type": "markdown",
   "metadata": {},
   "source": [
    "\n",
    "\n",
    "# Mais informações 📖\n",
    "\n",
    "- https://doc.sagemath.org/html/en/reference/calculus/sage/symbolic/expression.html\n",
    "- https://doc.sagemath.org/html/en/reference/plotting/sage/plot/plot.html\n",
    "- https://grossack.site/2021/02/25/sage-sums.html"
   ]
  }
 ],
 "metadata": {
  "kernelspec": {
   "display_name": "SageMath 9.8",
   "language": "sage",
   "name": "sagemath"
  },
  "language_info": {
   "codemirror_mode": {
    "name": "ipython",
    "version": 3
   },
   "file_extension": ".py",
   "mimetype": "text/x-python",
   "name": "python",
   "nbconvert_exporter": "python",
   "pygments_lexer": "ipython3",
   "version": "3.10.10"
  }
 },
 "nbformat": 4,
 "nbformat_minor": 2
}
